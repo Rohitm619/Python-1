{
 "cells": [
  {
   "cell_type": "markdown",
   "source": [
    "Python DataTypes\r\n",
    "\r\n",
    "In python we can set any data type without any error so let's see it's example."
   ],
   "metadata": {}
  },
  {
   "cell_type": "code",
   "execution_count": null,
   "source": [
    "a=10\r\n",
    "a='helloworld' #So first we set a as 10 but as it executes line to line so now it sets a as 'helloworld'\r\n",
    "print(a)"
   ],
   "outputs": [],
   "metadata": {}
  },
  {
   "cell_type": "code",
   "execution_count": null,
   "source": [
    "type(a) # It will str which means the data stored in a is of String type"
   ],
   "outputs": [],
   "metadata": {}
  },
  {
   "cell_type": "markdown",
   "source": [
    "Python Number\r\n",
    "\r\n",
    "So now let's play with Python Numbers"
   ],
   "metadata": {}
  },
  {
   "cell_type": "code",
   "execution_count": null,
   "source": [
    "a = 10\r\n",
    "b = 20.5\r\n",
    "c = 10 + 5j # It can also be used as Complex Numbers\r\n",
    "print(a)\r\n",
    "print(b)\r\n",
    "print(c)"
   ],
   "outputs": [],
   "metadata": {}
  },
  {
   "cell_type": "code",
   "execution_count": null,
   "source": [
    "print(type(a))\r\n",
    "print(type(b))\r\n",
    "print(type(c))"
   ],
   "outputs": [],
   "metadata": {}
  },
  {
   "cell_type": "markdown",
   "source": [
    "Id's in Python - Basically it points to storage where variable has stored value. Let's see it's example"
   ],
   "metadata": {}
  },
  {
   "cell_type": "code",
   "execution_count": null,
   "source": [
    "a = 1\r\n",
    "print(id(a))\r\n",
    "a = a + 1\r\n",
    "print(id(a)) # See in output there is difference in the Storage id"
   ],
   "outputs": [],
   "metadata": {}
  },
  {
   "cell_type": "markdown",
   "source": [
    "One more interesting thing in Id Let's see it's example"
   ],
   "metadata": {}
  },
  {
   "cell_type": "code",
   "execution_count": null,
   "source": [
    "a = 10\r\n",
    "b = 10\r\n",
    "print(id(a))\r\n",
    "print(id(b)) #Both of them are actually same. That means both a and b are storing address of same storage\r\n",
    "#Now if you do a = a+1 it will stop pointing to that storage but b will still Point to that Storage\r\n",
    "a = a+1\r\n",
    "print(id(a))\r\n",
    "print(id(b))"
   ],
   "outputs": [],
   "metadata": {}
  },
  {
   "cell_type": "code",
   "execution_count": 1,
   "source": [
    "#Tuples\r\n",
    "\r\n",
    "\r\n",
    "a = (1,2)\r\n",
    "print(a)\r\n",
    "print(type(a))"
   ],
   "outputs": [
    {
     "output_type": "stream",
     "name": "stdout",
     "text": [
      "(1, 2)\n",
      "<class 'tuple'>\n"
     ]
    }
   ],
   "metadata": {}
  },
  {
   "cell_type": "code",
   "execution_count": 2,
   "source": [
    "b,c = 3,4\r\n",
    "print(b)\r\n",
    "print(c)\r\n",
    "\r\n",
    "e = 3,4\r\n",
    "print(e)\r\n",
    "print(type(e))\r\n",
    "#So tuple is a default thing for python if we provide mutiple values to a variable"
   ],
   "outputs": [
    {
     "output_type": "stream",
     "name": "stdout",
     "text": [
      "3\n",
      "4\n",
      "(3, 4)\n",
      "<class 'tuple'>\n"
     ]
    }
   ],
   "metadata": {}
  },
  {
   "cell_type": "code",
   "execution_count": 6,
   "source": [
    "# Accessing element of Tuple\r\n",
    "\r\n",
    "# Accessing from right to left\r\n",
    "print(\"Right to Left\")\r\n",
    "print(e[0])\r\n",
    "print(e[1])\r\n",
    "\r\n",
    "# Accessing from left to right\r\n",
    "print(\"Left to Right\")\r\n",
    "print(e[-1])\r\n",
    "print(e[-2])"
   ],
   "outputs": [
    {
     "output_type": "stream",
     "name": "stdout",
     "text": [
      "Right to Left\n",
      "3\n",
      "4\n",
      "Left to Right\n",
      "4\n",
      "3\n"
     ]
    }
   ],
   "metadata": {}
  },
  {
   "cell_type": "code",
   "execution_count": 10,
   "source": [
    "# Printing element from start index to end index\r\n",
    "# f[start index : end index]\r\n",
    "# If we don't provide the end index it will start from start index and print till last index element\r\n",
    "f = (0,1,2,3,4,5,6)\r\n",
    "print(f[2:5])\r\n",
    "print(f[0:])\r\n",
    "\r\n",
    "# Difference between Tuple and Lists\r\n",
    "# Tuples are immutable \r\n",
    "# Lists are mutable\r\n",
    "# In lists we can append elements , delete elements or can change element\r\n",
    "# In Tuple we can't do any of this because tuples are immutable\r\n",
    "\r\n",
    "# f[5] = 8 - Will generate an error because are immutable "
   ],
   "outputs": [
    {
     "output_type": "stream",
     "name": "stdout",
     "text": [
      "(2, 3, 4)\n",
      "(0, 1, 2, 3, 4, 5, 6)\n"
     ]
    }
   ],
   "metadata": {}
  },
  {
   "cell_type": "code",
   "execution_count": 24,
   "source": [
    "a = (1,2,3)\r\n",
    "b = (4,5)\r\n",
    "\r\n",
    "for i in a:\r\n",
    "    print(i)\r\n",
    "\r\n",
    "print(1 in a) # Finds whether this element is available or not\r\n",
    "# Returns bool value\r\n",
    "\r\n",
    "print(len(a)) #Length function\r\n",
    "\r\n",
    "c = a+b\r\n",
    "print(c[0:])\r\n",
    "\r\n",
    "#Tuple of Tuples\r\n",
    "d = (a,b)\r\n",
    "d\r\n",
    "\r\n",
    "# Repetition\r\n",
    "e = a*4\r\n",
    "print(e[0:])\r\n",
    "\r\n",
    "# Minimum value\r\n",
    "print(min(a))\r\n",
    "\r\n",
    "# Maximum value\r\n",
    "print(max(a))\r\n",
    "\r\n",
    "#List to Tuple \r\n",
    "l = [1 , 2 , 3 , 4]\r\n",
    "tuple(l)\r\n"
   ],
   "outputs": [
    {
     "output_type": "stream",
     "name": "stdout",
     "text": [
      "1\n",
      "2\n",
      "3\n",
      "True\n",
      "3\n",
      "(1, 2, 3, 4, 5)\n",
      "(1, 2, 3, 1, 2, 3, 1, 2, 3, 1, 2, 3)\n",
      "1\n",
      "3\n"
     ]
    },
    {
     "output_type": "execute_result",
     "data": {
      "text/plain": [
       "(1, 2, 3, 4)"
      ]
     },
     "metadata": {},
     "execution_count": 24
    }
   ],
   "metadata": {}
  },
  {
   "cell_type": "code",
   "execution_count": 30,
   "source": [
    "def sum(a , b):\r\n",
    "    return a+b\r\n",
    "sum(1,2) # What if we write sum(1,2,3) - Will generate error\r\n",
    "\r\n",
    "# To get as many numbers as parameter \r\n",
    "def more_para(a,b, *more):\r\n",
    "    print(a)\r\n",
    "    print(b)\r\n",
    "    print(more)\r\n",
    "more_para(1,2,3,4)\r\n",
    "#Interesting more is a tuple now we can add all of them\r\n",
    "\r\n",
    "def sumofall(a,b, *more):\r\n",
    "    ans = a+b\r\n",
    "    for i in more:\r\n",
    "        ans+=i\r\n",
    "    return ans\r\n",
    "sumofall(1,2,3,4,5)"
   ],
   "outputs": [
    {
     "output_type": "stream",
     "name": "stdout",
     "text": [
      "1\n",
      "2\n",
      "(3, 4)\n"
     ]
    },
    {
     "output_type": "execute_result",
     "data": {
      "text/plain": [
       "15"
      ]
     },
     "metadata": {},
     "execution_count": 30
    }
   ],
   "metadata": {}
  },
  {
   "cell_type": "code",
   "execution_count": 35,
   "source": [
    "def sum_diff(a,b, *more):\r\n",
    "    add = a+b\r\n",
    "    sub = a-b\r\n",
    "    for i in more:\r\n",
    "        add+=i\r\n",
    "        sub-=i\r\n",
    "    return add , sub\r\n",
    "c = sum_diff(5,10,20)\r\n",
    "print(c)\r\n",
    "print(type(c))"
   ],
   "outputs": [
    {
     "output_type": "stream",
     "name": "stdout",
     "text": [
      "(35, -25)\n",
      "<class 'tuple'>\n"
     ]
    }
   ],
   "metadata": {}
  },
  {
   "cell_type": "code",
   "execution_count": 8,
   "source": [
    "# Dictionary in Python\r\n",
    "\r\n",
    "a = {1:2 , \"list\":[1,2] , \"abc\":(1,2) , \"dict\":{1:2}}\r\n",
    "a[1] # So instead of using a[0] we will use keys to access values\r\n",
    "\r\n",
    "# Another way of accessing data is:\r\n",
    "a.get(\"dict\")\r\n",
    "a.keys()    # Returns keys present in Dictionaries\r\n",
    "a.values()  # Returns values present in Dictionaries\r\n",
    "a.items()   # Returns both keys and values present in dictonaries "
   ],
   "outputs": [
    {
     "output_type": "execute_result",
     "data": {
      "text/plain": [
       "dict_items([(1, 2), ('list', [1, 2]), ('abc', (1, 2)), ('dict', {1: 2})])"
      ]
     },
     "metadata": {},
     "execution_count": 8
    }
   ],
   "metadata": {}
  },
  {
   "cell_type": "code",
   "execution_count": 10,
   "source": [
    "for i in a:\r\n",
    "    print(i , \":\" , a[i])\r\n",
    "    # Here i stands for keys and a[i] simply stands for values in it"
   ],
   "outputs": [
    {
     "output_type": "stream",
     "name": "stdout",
     "text": [
      "1 : 2\n",
      "list : [1, 2]\n",
      "abc : (1, 2)\n",
      "dict : {1: 2}\n"
     ]
    }
   ],
   "metadata": {}
  },
  {
   "cell_type": "code",
   "execution_count": 12,
   "source": [
    "# We can do it in another way in Python\r\n",
    "for i in a.values():\r\n",
    "    print(i)"
   ],
   "outputs": [
    {
     "output_type": "stream",
     "name": "stdout",
     "text": [
      "2\n",
      "[1, 2]\n",
      "(1, 2)\n",
      "{1: 2}\n"
     ]
    }
   ],
   "metadata": {}
  },
  {
   "cell_type": "code",
   "execution_count": 20,
   "source": [
    "\"abc\" in a # It will check for key not for value\r\n",
    "\r\n",
    "a['tuple'] = (1,2,3) # It adds one more key and value in it\r\n",
    "\r\n",
    "b = {1:3 , \"newdict\": \"Hello\" , 23:100}\r\n",
    "a.update(b)  # Now it will change the value of key if it is present and will add new keys and values in it\r\n",
    "a.pop(\"newdict\") # Removes the key\r\n",
    "a"
   ],
   "outputs": [
    {
     "output_type": "execute_result",
     "data": {
      "text/plain": [
       "{1: 3,\n",
       " 'list': [1, 2],\n",
       " 'abc': (1, 2),\n",
       " 'dict': {1: 2},\n",
       " 'tuple': (1, 2, 3),\n",
       " 23: 100}"
      ]
     },
     "metadata": {},
     "execution_count": 20
    }
   ],
   "metadata": {}
  },
  {
   "cell_type": "code",
   "execution_count": 1,
   "source": [
    "# Files in Python\r\n",
    "# We will see how to open , write and read file of .txt and .csv files in python\r\n",
    "\r\n",
    "# Let's see how to open a file\r\n",
    "# Syntax : open(\"Filename\" , \"Accessmode\") - Here access mode is either read or write\r\n",
    "\r\n",
    "f = open('E:\\Python_Stocks\\Python\\demofile.txt' , 'w')\r\n",
    "# To read data from files \r\n",
    "#print(f.read());\r\n",
    "\r\n",
    "# To get few content from file\r\n",
    "#print(f.read(35))\r\n",
    "\r\n",
    "# Get a whole line from a file\r\n",
    "#print(f.readline()) # Get first line from a file \r\n",
    "#print(f.readline()) # Get second line from a file\r\n",
    "# Another way to get all line from a file\r\n",
    "#for x in f:\r\n",
    "#    print(x)\r\n",
    "\r\n",
    "#f.close() # To close a file\r\n",
    "\r\n",
    "f.write(\"Some more content in a file to give example of file in python\")\r\n",
    "f.close()\r\n",
    "\r\n",
    "#open and read the file after the appending:\r\n",
    "f = open(\"E:\\Python_Stocks\\Python\\demofile.txt\", \"r\")\r\n",
    "print(f.read())\r\n",
    "f.close() # If we try to read data of file it will generate a error because file is closed."
   ],
   "outputs": [
    {
     "output_type": "stream",
     "name": "stdout",
     "text": [
      "Some more content in a file to give example of file in python\n"
     ]
    }
   ],
   "metadata": {}
  },
  {
   "cell_type": "code",
   "execution_count": 7,
   "source": [
    "# Let's see some more function of readlines in Python\r\n",
    "\r\n",
    "f = open('E:\\Python_Stocks\\Python\\demofile.txt' , 'r')\r\n",
    "filedata = f.readlines()\r\n",
    "print(type(f.readlines()))\r\n",
    "print(len(filedata))\r\n",
    "print(filedata[3]) # Accessing a specific line in Python\r\n",
    "f.close()"
   ],
   "outputs": [
    {
     "output_type": "stream",
     "name": "stdout",
     "text": [
      "<class 'list'>\n",
      "9\n",
      "College: CUSP\n",
      "\n"
     ]
    }
   ],
   "metadata": {}
  },
  {
   "cell_type": "code",
   "execution_count": 11,
   "source": [
    "# Another way of opening a file.\r\n",
    "\r\n",
    "with open('E:\\Python_Stocks\\Python\\demofile.txt' , 'r') as fileobj:\r\n",
    "    filedata = fileobj.readlines()\r\n",
    "print(filedata[0])"
   ],
   "outputs": [
    {
     "output_type": "stream",
     "name": "stdout",
     "text": [
      "print(\"Heyy there Shah Stavan here :)\")\n",
      "\n"
     ]
    }
   ],
   "metadata": {}
  },
  {
   "cell_type": "code",
   "execution_count": null,
   "source": [
    "# Now we will work with CSV files in python\r\n",
    "# Dict Reader which is same like Dictionary in Python has key as row index and value as row\r\n",
    "import csv\r\n",
    "\r\n",
    "with open('E:\\Python_Stocks\\Wipro.csv' , 'r') as file_obj:\r\n",
    "    filedata = csv.DictReader(file_obj , skipinitialspace=\"True\")\r\n",
    "\r\n",
    "    for row in filedata :\r\n",
    "        print(row)\r\n"
   ],
   "outputs": [],
   "metadata": {}
  },
  {
   "cell_type": "code",
   "execution_count": 23,
   "source": [],
   "outputs": [
    {
     "output_type": "error",
     "ename": "KeyError",
     "evalue": "'OPEN'",
     "traceback": [
      "\u001b[1;31m---------------------------------------------------------------------------\u001b[0m",
      "\u001b[1;31mKeyError\u001b[0m                                  Traceback (most recent call last)",
      "\u001b[1;32mC:\\Users\\STAVAN~1\\AppData\\Local\\Temp/ipykernel_9176/415550815.py\u001b[0m in \u001b[0;36m<module>\u001b[1;34m\u001b[0m\n\u001b[0;32m      9\u001b[0m     \u001b[0mopenhigh\u001b[0m \u001b[1;33m=\u001b[0m \u001b[1;33m{\u001b[0m\u001b[1;33m}\u001b[0m\u001b[1;33m\u001b[0m\u001b[1;33m\u001b[0m\u001b[0m\n\u001b[0;32m     10\u001b[0m     \u001b[1;32mfor\u001b[0m \u001b[0mrow\u001b[0m \u001b[1;32min\u001b[0m \u001b[0mfile_list\u001b[0m \u001b[1;33m:\u001b[0m\u001b[1;33m\u001b[0m\u001b[1;33m\u001b[0m\u001b[0m\n\u001b[1;32m---> 11\u001b[1;33m         \u001b[0mkey\u001b[0m \u001b[1;33m=\u001b[0m \u001b[0mrow\u001b[0m\u001b[1;33m[\u001b[0m\u001b[1;34m'OPEN'\u001b[0m\u001b[1;33m]\u001b[0m\u001b[1;33m\u001b[0m\u001b[1;33m\u001b[0m\u001b[0m\n\u001b[0m\u001b[0;32m     12\u001b[0m         \u001b[0mvalue\u001b[0m \u001b[1;33m=\u001b[0m \u001b[0mrow\u001b[0m\u001b[1;33m[\u001b[0m\u001b[1;34m'HIGH'\u001b[0m\u001b[1;33m]\u001b[0m\u001b[1;33m\u001b[0m\u001b[1;33m\u001b[0m\u001b[0m\n\u001b[0;32m     13\u001b[0m \u001b[1;33m\u001b[0m\u001b[0m\n",
      "\u001b[1;31mKeyError\u001b[0m: 'OPEN'"
     ]
    }
   ],
   "metadata": {}
  }
 ],
 "metadata": {
  "orig_nbformat": 4,
  "language_info": {
   "name": "python",
   "version": "3.9.6",
   "mimetype": "text/x-python",
   "codemirror_mode": {
    "name": "ipython",
    "version": 3
   },
   "pygments_lexer": "ipython3",
   "nbconvert_exporter": "python",
   "file_extension": ".py"
  },
  "kernelspec": {
   "name": "python3",
   "display_name": "Python 3.9.6 64-bit"
  },
  "interpreter": {
   "hash": "20dba1faef9ac7d34ee038aad45fd714b883ffd8aecb74eccea8b680f17885e1"
  }
 },
 "nbformat": 4,
 "nbformat_minor": 2
}