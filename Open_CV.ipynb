# Working with images
# Reading images

import cv2

img = cv2.imread("Your Image") # Add Relative or Absolute Path of image
gray = cv2.imread("Your Image" , cv2.IMREAD_GRAYSCALE) # Converting Image from RGB to Grayscale. You can convert in any other scale like BGR and many other
cv2.imshow("Name of image",img)
cv2.imshow("Name of Image",gray)
cv2.waitKey(0) # Time Frame until how many seconds want to stay on screen. Here 0 means infinite
cv2.destroyAllWindows() # After specific seconds it will automatically destroy the screen
